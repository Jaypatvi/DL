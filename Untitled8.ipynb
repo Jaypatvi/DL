{
  "nbformat": 4,
  "nbformat_minor": 0,
  "metadata": {
    "colab": {
      "provenance": [],
      "authorship_tag": "ABX9TyMUKGzNjwVWXcDbQ1Gxtl61",
      "include_colab_link": true
    },
    "kernelspec": {
      "name": "python3",
      "display_name": "Python 3"
    },
    "language_info": {
      "name": "python"
    }
  },
  "cells": [
    {
      "cell_type": "markdown",
      "metadata": {
        "id": "view-in-github",
        "colab_type": "text"
      },
      "source": [
        "<a href=\"https://colab.research.google.com/github/Jaypatvi/DL/blob/main/Untitled8.ipynb\" target=\"_parent\"><img src=\"https://colab.research.google.com/assets/colab-badge.svg\" alt=\"Open In Colab\"/></a>"
      ]
    },
    {
      "cell_type": "code",
      "source": [
        "#1a)\n",
        "import numpy as np\n",
        "\n",
        "def unitstep(v):\n",
        "    if v >= 0:\n",
        "        return 1\n",
        "    else:\n",
        "        return 0\n",
        "\n",
        "def perceptron_learning(x, y_target, w, b, learning_rate):\n",
        "    for _ in range(10000):\n",
        "        total_error = 0\n",
        "        for i in range(len(x)):\n",
        "            v = np.dot(w, x[i]) + b\n",
        "            y = unitstep(v)\n",
        "            error = y_target[i] - y\n",
        "            total_error += abs(error)\n",
        "\n",
        "            w += learning_rate * error * x[i]\n",
        "            b += learning_rate * error\n",
        "\n",
        "        if total_error == 0:\n",
        "            break\n",
        "    return w, b\n",
        "\n",
        "def not_logicfunction(x):\n",
        "    wnot = -1\n",
        "    bnot = 0.5\n",
        "    return perceptron(np.array([x]), np.array([wnot]), bnot)\n",
        "\n",
        "def and_logicfunction(x):\n",
        "    w = np.array([1, 1])\n",
        "    b = -1.5\n",
        "    return perceptron(x, w, b)\n",
        "\n",
        "def or_logicfunction(x):\n",
        "    w = np.array([1, 1])\n",
        "    b = -0.5\n",
        "    return perceptron(x, w, b)\n",
        "\n",
        "def xor_logicfunction():\n",
        "    x = np.array([[0, 0], [0, 1], [1, 0], [1, 1]])\n",
        "    y_target = np.array([0, 1, 1, 0])\n",
        "\n",
        "    w = np.random.rand(2)\n",
        "    b = np.random.rand()\n",
        "    learning_rate = 0.1\n",
        "\n",
        "    w, b = perceptron_learning(x, y_target, w, b, learning_rate)\n",
        "\n",
        "    def predict(x_input):\n",
        "        v = np.dot(w, x_input) + b\n",
        "        return unitstep(v)\n",
        "\n",
        "    return predict\n",
        "\n",
        "xor_predict = xor_logicfunction()\n",
        "\n",
        "test_inputs = [np.array([0, 1]), np.array([1, 1]), np.array([0, 0]), np.array([1, 0])]\n",
        "for x_input in test_inputs:\n",
        "    output = xor_predict(x_input)\n",
        "    print(f\"xor({x_input[0]}, {x_input[1]}) = {output}\")\n",
        "\n"
      ],
      "metadata": {
        "colab": {
          "base_uri": "https://localhost:8080/"
        },
        "id": "kQdWKdLt8Ust",
        "outputId": "a10b8e1a-c789-4478-928f-2d64685b374a"
      },
      "execution_count": null,
      "outputs": [
        {
          "output_type": "stream",
          "name": "stdout",
          "text": [
            "xor(0, 1) = 1\n",
            "xor(1, 1) = 0\n",
            "xor(0, 0) = 1\n",
            "xor(1, 0) = 0\n"
          ]
        }
      ]
    },
    {
      "cell_type": "code",
      "source": [
        "#1b)\n",
        "import numpy as np\n",
        "import tensorflow as tf\n",
        "\n",
        "x_data = np.array([[0, 0], [0, 1], [1, 0], [1, 1]], dtype=np.float32)\n",
        "y_data = np.array([[0], [1], [1], [0]], dtype=np.float32)\n",
        "\n",
        "model = tf.keras.Sequential([\n",
        "    tf.keras.layers.Dense(2, input_dim=2, activation='relu'),\n",
        "    tf.keras.layers.Dense(1, activation='sigmoid')\n",
        "])\n",
        "\n",
        "model.compile(optimizer='adam', loss='binary_crossentropy', metrics=['accuracy'])\n",
        "\n",
        "model.fit(x_data, y_data, epochs=1000, verbose=0)\n",
        "\n",
        "for x_input in x_data:\n",
        "    output = model.predict(np.array([x_input]))\n",
        "    print(f\"xor({int(x_input[0])}, {int(x_input[1])}) = {round(output[0][0])}\")\n"
      ],
      "metadata": {
        "colab": {
          "base_uri": "https://localhost:8080/"
        },
        "id": "WuxA6OUfADDp",
        "outputId": "57e8e25a-7cae-4d45-9ca4-00681986b92d"
      },
      "execution_count": null,
      "outputs": [
        {
          "output_type": "stream",
          "name": "stderr",
          "text": [
            "/usr/local/lib/python3.10/dist-packages/keras/src/layers/core/dense.py:87: UserWarning: Do not pass an `input_shape`/`input_dim` argument to a layer. When using Sequential models, prefer using an `Input(shape)` object as the first layer in the model instead.\n",
            "  super().__init__(activity_regularizer=activity_regularizer, **kwargs)\n"
          ]
        },
        {
          "output_type": "stream",
          "name": "stdout",
          "text": [
            "\u001b[1m1/1\u001b[0m \u001b[32m━━━━━━━━━━━━━━━━━━━━\u001b[0m\u001b[37m\u001b[0m \u001b[1m0s\u001b[0m 49ms/step\n",
            "xor(0, 0) = 0\n",
            "\u001b[1m1/1\u001b[0m \u001b[32m━━━━━━━━━━━━━━━━━━━━\u001b[0m\u001b[37m\u001b[0m \u001b[1m0s\u001b[0m 18ms/step\n",
            "xor(0, 1) = 1\n",
            "\u001b[1m1/1\u001b[0m \u001b[32m━━━━━━━━━━━━━━━━━━━━\u001b[0m\u001b[37m\u001b[0m \u001b[1m0s\u001b[0m 19ms/step\n",
            "xor(1, 0) = 0\n",
            "\u001b[1m1/1\u001b[0m \u001b[32m━━━━━━━━━━━━━━━━━━━━\u001b[0m\u001b[37m\u001b[0m \u001b[1m0s\u001b[0m 19ms/step\n",
            "xor(1, 1) = 0\n"
          ]
        }
      ]
    },
    {
      "cell_type": "code",
      "source": [
        "import tensorflow as tf\n",
        "from tensorflow.keras import layers, models\n",
        "import matplotlib.pyplot as plt\n",
        "\n",
        "def load_data():\n",
        "    (X_train, y_train), (X_test, y_test) = tf.keras.datasets.cifar10.load_data()\n",
        "    X_train, X_test = X_train / 255.0, X_test / 255.0\n",
        "    return (X_train, y_train), (X_test, y_test)\n",
        "\n",
        "(X_train, y_train), (X_test, y_test) = load_data()\n",
        "\n",
        "def create_lenet():\n",
        "    model = models.Sequential([\n",
        "        layers.Conv2D(6, (5, 5), activation='tanh', input_shape=(32, 32, 3)),\n",
        "        layers.AveragePooling2D(pool_size=2),\n",
        "        layers.Conv2D(16, (5, 5), activation='tanh'),\n",
        "        layers.AveragePooling2D(pool_size=2),\n",
        "        layers.Flatten(),\n",
        "        layers.Dense(120, activation='tanh'),\n",
        "        layers.Dense(84, activation='tanh'),\n",
        "        layers.Dense(10, activation='softmax')\n",
        "    ])\n",
        "    return model\n",
        "\n",
        "def create_alexnet():\n",
        "    model = models.Sequential([\n",
        "        layers.Conv2D(64, (3, 3), strides=1, activation='relu', input_shape=(32, 32, 3)),\n",
        "        layers.MaxPooling2D(pool_size=(2, 2), strides=2),\n",
        "        layers.Conv2D(128, (3, 3), activation='relu'),\n",
        "        layers.MaxPooling2D(pool_size=(2, 2), strides=2),\n",
        "        layers.Conv2D(256, (3, 3), activation='relu', padding='same'),\n",
        "        layers.Conv2D(256, (3, 3), activation='relu', padding='same'),\n",
        "        layers.MaxPooling2D(pool_size=(2, 2), strides=2),\n",
        "        layers.Flatten(),\n",
        "        layers.Dense(1024, activation='relu'),\n",
        "        layers.Dense(512, activation='relu'),\n",
        "        layers.Dense(10, activation='softmax')\n",
        "    ])\n",
        "    return model\n",
        "\n",
        "def train_and_evaluate(model, X_train, y_train, X_test, y_test, optimizer_name):\n",
        "    model.compile(optimizer='adam', loss='sparse_categorical_crossentropy', metrics=['accuracy'])\n",
        "    history = model.fit(X_train, y_train, epochs=2, batch_size=64, validation_data=(X_test, y_test), verbose=1)\n",
        "    return history\n",
        "\n",
        "lenet = create_lenet()\n",
        "history_lenet = train_and_evaluate(lenet, X_train, y_train, X_test, y_test, 'LeNet')\n",
        "\n",
        "alexnet = create_alexnet()\n",
        "history_alexnet = train_and_evaluate(alexnet, X_train, y_train, X_test, y_test, 'AlexNet')\n",
        "\n",
        "def plot_comparison(histories, labels):\n",
        "    plt.figure(figsize=(10, 5))\n",
        "    for history, label in zip(histories, labels):\n",
        "        plt.plot(history.history['val_accuracy'], label=f'{label} Val Accuracy')\n",
        "    plt.xlabel('Epochs')\n",
        "    plt.ylabel('Validation Accuracy')\n",
        "    plt.title('Model Comparison')\n",
        "    plt.legend()\n",
        "    plt.show()\n",
        "\n",
        "plot_comparison([history_lenet, history_alexnet], ['LeNet', 'AlexNet'])\n"
      ],
      "metadata": {
        "colab": {
          "base_uri": "https://localhost:8080/"
        },
        "id": "f3HgQDFtIVz1",
        "outputId": "675123ab-e3d8-42d0-c47d-bd9fad80e7a8"
      },
      "execution_count": null,
      "outputs": [
        {
          "output_type": "stream",
          "name": "stdout",
          "text": [
            "Downloading data from https://www.cs.toronto.edu/~kriz/cifar-10-python.tar.gz\n",
            "\u001b[1m170498071/170498071\u001b[0m \u001b[32m━━━━━━━━━━━━━━━━━━━━\u001b[0m\u001b[37m\u001b[0m \u001b[1m4s\u001b[0m 0us/step\n"
          ]
        },
        {
          "output_type": "stream",
          "name": "stderr",
          "text": [
            "/usr/local/lib/python3.10/dist-packages/keras/src/layers/convolutional/base_conv.py:107: UserWarning: Do not pass an `input_shape`/`input_dim` argument to a layer. When using Sequential models, prefer using an `Input(shape)` object as the first layer in the model instead.\n",
            "  super().__init__(activity_regularizer=activity_regularizer, **kwargs)\n"
          ]
        },
        {
          "output_type": "stream",
          "name": "stdout",
          "text": [
            "Epoch 1/2\n",
            "\u001b[1m782/782\u001b[0m \u001b[32m━━━━━━━━━━━━━━━━━━━━\u001b[0m\u001b[37m\u001b[0m \u001b[1m40s\u001b[0m 49ms/step - accuracy: 0.3193 - loss: 1.8992 - val_accuracy: 0.4036 - val_loss: 1.6918\n",
            "Epoch 2/2\n",
            "\u001b[1m782/782\u001b[0m \u001b[32m━━━━━━━━━━━━━━━━━━━━\u001b[0m\u001b[37m\u001b[0m \u001b[1m44s\u001b[0m 57ms/step - accuracy: 0.4188 - loss: 1.6501 - val_accuracy: 0.4546 - val_loss: 1.5374\n",
            "Epoch 1/2\n",
            "\u001b[1m782/782\u001b[0m \u001b[32m━━━━━━━━━━━━━━━━━━━━\u001b[0m\u001b[37m\u001b[0m \u001b[1m459s\u001b[0m 584ms/step - accuracy: 0.3339 - loss: 1.7736 - val_accuracy: 0.5656 - val_loss: 1.2167\n",
            "Epoch 2/2\n"
          ]
        }
      ]
    },
    {
      "cell_type": "code",
      "source": [
        "import tensorflow as tf\n",
        "from tensorflow import keras\n",
        "from tensorflow.keras import datasets, layers, models\n",
        "import matplotlib.pyplot as plt\n",
        "\n",
        "(train_images, train_labels), (test_images, test_labels) = datasets.mnist.load_data()\n",
        "train_images = train_images.reshape((train_images.shape[0], 28, 28, 1)).astype('float32') / 255\n",
        "test_images = test_images.reshape((test_images.shape[0], 28, 28, 1)).astype('float32') / 255\n",
        "\n",
        "train_images = tf.image.resize(train_images, [32, 32])\n",
        "test_images = tf.image.resize(test_images, [32, 32])\n",
        "train_images = tf.image.grayscale_to_rgb(train_images)\n",
        "test_images = tf.image.grayscale_to_rgb(test_images)\n",
        "\n",
        "base_model = keras.applications.ResNet50(\n",
        "    weights=None,\n",
        "    input_shape=(32, 32, 3),\n",
        "    classes=10\n",
        ")\n",
        "\n",
        "base_model.compile(optimizer='adam', loss='sparse_categorical_crossentropy', metrics=['accuracy'])\n",
        "\n",
        "history = base_model.fit(train_images, train_labels, epochs=2, validation_data=(test_images, test_labels))\n",
        "\n",
        "test_loss, test_acc = base_model.evaluate(test_images, test_labels)\n",
        "print(f'Test accuracy: {test_acc}')\n",
        "\n",
        "plt.plot(history.history['accuracy'])\n",
        "plt.plot(history.history['val_accuracy'])\n",
        "plt.title('Model accuracy')\n",
        "plt.ylabel('Accuracy')\n",
        "plt.xlabel('Epoch')\n",
        "plt.legend(['Train', 'Validation'], loc='upper left')\n",
        "plt.show()\n",
        "\n",
        "plt.plot(history.history['loss'])\n",
        "plt.plot(history.history['val_loss'])\n",
        "plt.title('Model loss')\n",
        "plt.ylabel('Loss')\n",
        "plt.xlabel('Epoch')\n",
        "plt.legend(['Train', 'Validation'], loc='upper left')\n",
        "plt.show()\n"
      ],
      "metadata": {
        "id": "AdFLs909JTmu"
      },
      "execution_count": null,
      "outputs": []
    },
    {
      "cell_type": "code",
      "source": [],
      "metadata": {
        "id": "akNiQjeNMsOE"
      },
      "execution_count": null,
      "outputs": []
    }
  ]
}